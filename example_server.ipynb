{
 "cells": [
  {
   "cell_type": "code",
   "execution_count": 1,
   "metadata": {},
   "outputs": [
    {
     "name": "stdout",
     "output_type": "stream",
     "text": [
      "[[0.86066052 0.73578664 0.32556862 0.21765915 0.19092748]\n",
      " [0.32000445 0.02962106 0.04733892 0.21432003 0.39825942]\n",
      " [0.65092408 0.57236069 0.71763534 0.04871704 0.75522951]\n",
      " [0.84815202 0.67693125 0.25233169 0.37416321 0.58596066]]\n",
      "shape in send: (4, 5)\n",
      "count in send (4, 5)\n",
      "start in send (0, 0)\n"
     ]
    }
   ],
   "source": [
    "from wands import RandomData, AdiosWands\n",
    "\n",
    "#generate Data\n",
    "data = RandomData([4,5])\n",
    "print(str(data))\n",
    "\n",
    "params={\n",
    "    \"IPAddress\": \"127.0.0.1\",\n",
    "    \"Port\": \"12306\",\n",
    "    \"Timeout\": \"5\",\n",
    "    \"TransportMode\": \"reliable\", \n",
    "    \"RendezvousReaderCount\": \"1\",\n",
    "}\n",
    "\n",
    "ads = AdiosWands(link=\"DeclaredIO1\", parameters=params)\n",
    "ads.send(\"IO1\",\"testdata\", data.get_numpy_array())"
   ]
  },
  {
   "cell_type": "code",
   "execution_count": 1,
   "metadata": {},
   "outputs": [
    {
     "name": "stdout",
     "output_type": "stream",
     "text": [
      "[[ 0  1  2  3  4]\n",
      " [ 5  6  7  8  9]\n",
      " [10 11 12 13 14]\n",
      " [15 16 17 18 19]]\n",
      "shape in send: (4, 5)\n",
      "count in send (4, 5)\n",
      "start in send (0, 0)\n"
     ]
    }
   ],
   "source": [
    "from wands import RandomData, AdiosWands\n",
    "import numpy as np\n",
    "\n",
    "#generate Data\n",
    "data = np.arange(20).reshape(4,5)\n",
    "print(str(data))\n",
    "\n",
    "params={\n",
    "    \"IPAddress\": \"127.0.0.1\",\n",
    "    \"Port\": \"12306\",\n",
    "    \"Timeout\": \"5\",\n",
    "    \"TransportMode\": \"reliable\", \n",
    "    \"RendezvousReaderCount\": \"1\",\n",
    "}\n",
    "\n",
    "ads = AdiosWands(link=\"DeclaredIO1\", parameters=params)\n",
    "ads.send(\"IO1\",\"testdata\", data)"
   ]
  },
  {
   "cell_type": "code",
   "execution_count": 1,
   "metadata": {},
   "outputs": [
    {
     "name": "stdout",
     "output_type": "stream",
     "text": [
      "adios object created\n",
      "<class 'list'>\n",
      "just got into receive\n",
      "after open\n",
      "this data was received [[-0.00780628 -0.00779378 -0.00778128 ...  0.27514654  0.26721197\n",
      "   0.27026373]\n",
      " [ 0.          0.          0.         ...  1.          1.\n",
      "   1.        ]\n",
      " [ 1.          1.          1.         ...  1.          1.\n",
      "   1.        ]]\n",
      "[None]\n",
      "None\n"
     ]
    }
   ],
   "source": [
    "#ON CSD3\n",
    "from wands import AdiosWands\n",
    "import numpy as np\n",
    "\n",
    "params={\n",
    "    \"IPAddress\": \"127.0.0.1\",\n",
    "    \"Port\": \"12306\",\n",
    "    \"Timeout\": \"5\",\n",
    "    \"TransportMode\": \"reliable\", \n",
    "    \"RendezvousReaderCount\": \"1\",\n",
    "}\n",
    "\n",
    "ads = AdiosWands(link=\"Stream_data\", parameters=params)\n",
    "print(\"adios object created\")\n",
    "file = \"/home/stefanie/work/adios/adiosnetwork/data/30420.h5\"\n",
    "#req_var = ['xax/XAX_CHFS/2_PRELOAD','xbt/XBT/CHANNEL16']\n",
    "req_list = ['/xax/XAX_CHFS/2_PRELOAD']\n",
    "#req_var = np.ascontiguousarray(req_var)\n",
    "#req_var = np.array('xax/XAX_CHFS/2_PRELOAD')\n",
    "print(type(req_list))\n",
    "#data = ads.request_remote_data(req_data=req_var,data_source=file)\n",
    "#ads.send(eng_name= \"IO1\", var_name = \"req_data\",data=req_list)\n",
    "data = ads.receive_multiple_datasets(eng_name='IO1',req_data=req_list)\n",
    "# print(data[0])\n",
    "# print(data[1])\n",
    "print(data)\n",
    "for k in data:\n",
    "    print(k)\n",
    "\n"
   ]
  }
 ],
 "metadata": {
  "kernelspec": {
   "display_name": "adios2py",
   "language": "python",
   "name": "python3"
  },
  "language_info": {
   "codemirror_mode": {
    "name": "ipython",
    "version": 3
   },
   "file_extension": ".py",
   "mimetype": "text/x-python",
   "name": "python",
   "nbconvert_exporter": "python",
   "pygments_lexer": "ipython3",
   "version": "3.11.0"
  },
  "orig_nbformat": 4,
  "vscode": {
   "interpreter": {
    "hash": "a0db4a15088eb8ce89507f26dc070061897a95d62ae4e6453334ebf497d61938"
   }
  }
 },
 "nbformat": 4,
 "nbformat_minor": 2
}
