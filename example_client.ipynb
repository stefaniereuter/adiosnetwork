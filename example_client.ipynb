{
 "cells": [
  {
   "cell_type": "code",
   "execution_count": 1,
   "metadata": {},
   "outputs": [
    {
     "name": "stdout",
     "output_type": "stream",
     "text": [
      "just got into receive\n",
      "after open\n",
      "required stepStatus: StepStatus.OK\n",
      "Inquire Variable testdata\n",
      "successfull\n",
      "successfull\n",
      " before get0\n",
      " after get\n",
      "required stepStatus: StepStatus.EndOfStream\n",
      "[[0.0e+000 4.9e-324 9.9e-324 1.5e-323 2.0e-323]\n",
      " [2.5e-323 3.0e-323 3.5e-323 4.0e-323 4.4e-323]\n",
      " [4.9e-323 5.4e-323 5.9e-323 6.4e-323 6.9e-323]\n",
      " [7.4e-323 7.9e-323 8.4e-323 8.9e-323 9.4e-323]]\n"
     ]
    }
   ],
   "source": [
    "from wands import RandomData, AdiosWands\n",
    "\n",
    "#generate Data\n",
    "#data = RandomData([2,4])\n",
    "\n",
    "params={\n",
    "    \"IPAddress\": \"127.0.0.1\",\n",
    "    \"Port\": \"12306\",\n",
    "    \"Timeout\": \"5\",\n",
    "    \"TransportMode\": \"reliable\", \n",
    "    \"RendezvousReaderCount\": \"1\",\n",
    "}\n",
    "\n",
    "ads = AdiosWands(link=\"DeclaredIO2\", parameters=params)\n",
    "receiveddata = ads.receive(\"IO1\",\"testdata\")\n",
    "\n",
    "print(receiveddata)"
   ]
  },
  {
   "cell_type": "code",
   "execution_count": 1,
   "metadata": {},
   "outputs": [
    {
     "name": "stdout",
     "output_type": "stream",
     "text": [
      "this will be send now: /xax/XAX_CHFS/2_PRELOAD: \n",
      " data = [1.6394043 1.6305542 1.6366577 ... 1.633606  1.6351318 1.6351318] \n",
      " time = [-1.0000005  -0.99990046 -0.9998005  ...  1.4996994   1.4997995\n",
      "  1.4998994 ] \n",
      " time attributes {'units': 's'} \n",
      " errors = [0. 0. 0. ... 0. 0. 0.] \n",
      " group attributes = {'description': '', 'label': 'V', 'pass_date': '2013-09-25', 'rank': 1, 'shape': array([25000], dtype=int32), 'time_index': 0, 'units': 'Volt'}  \n",
      "shape in send: (3, 25000)\n",
      "count in send (3, 25000)\n",
      "start in send (0, 0)\n"
     ]
    }
   ],
   "source": [
    "from wands import RandomData, AdiosWands\n",
    "\n",
    "params={\n",
    "    \"IPAddress\": \"127.0.0.1\",\n",
    "    \"Port\": \"12306\",\n",
    "    \"Timeout\": \"5\",\n",
    "    \"TransportMode\": \"reliable\", \n",
    "    \"RendezvousReaderCount\": \"1\",\n",
    "}\n",
    "file = '/home/stefanie/work/adios/adiosnetwork/data/30420.h5'\n",
    "req_list = ['/xax/XAX_CHFS/2_PRELOAD']\n",
    "ads = AdiosWands(link=\"DeclaredIO2\", parameters=params)\n",
    "#receiveddata = ads.receive(\"IO1\",\"req_data\")\n",
    "ads.request_data_onsite(filename=file,req_list=req_list, eng_name='IO1')\n",
    "#print(receiveddata)"
   ]
  }
 ],
 "metadata": {
  "kernelspec": {
   "display_name": "adios2py",
   "language": "python",
   "name": "python3"
  },
  "language_info": {
   "codemirror_mode": {
    "name": "ipython",
    "version": 3
   },
   "file_extension": ".py",
   "mimetype": "text/x-python",
   "name": "python",
   "nbconvert_exporter": "python",
   "pygments_lexer": "ipython3",
   "version": "3.11.0"
  },
  "orig_nbformat": 4,
  "vscode": {
   "interpreter": {
    "hash": "a0db4a15088eb8ce89507f26dc070061897a95d62ae4e6453334ebf497d61938"
   }
  }
 },
 "nbformat": 4,
 "nbformat_minor": 2
}
