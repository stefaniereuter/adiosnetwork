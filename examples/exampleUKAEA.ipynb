{
 "cells": [
  {
   "cell_type": "code",
   "execution_count": 1,
   "metadata": {},
   "outputs": [
    {
     "name": "stdout",
     "output_type": "stream",
     "text": [
      "shape in send: (3, 650000)\n",
      "count in send (3, 650000)\n",
      "start in send (0, 0)\n",
      "/xmc/XMC/ACQ196_143/CH01: \n",
      " data = [-0.00416018 -0.00385162 -0.00416018 ... -0.00416018 -0.00354307\n",
      " -0.00385162] \n",
      " time = [-0.0999992 -0.0999972 -0.0999952 ...  1.1999948  1.1999968  1.1999988] \n",
      " time attributes {'units': 's'} \n",
      " errors = [0. 0. 0. ... 0. 0. 0.] \n",
      " group attributes = {'description': '', 'label': 'Volt', 'pass_date': '2013-09-25', 'rank': 1, 'shape': array([650000], dtype=int32), 'time_index': 0, 'units': 'V'}  \n"
     ]
    }
   ],
   "source": [
    "###TEST1 send one Raw data struct\n",
    "from wands import AdiosWands, HDF5\n",
    "\n",
    "params = {\n",
    "    \"IPAddress\": \"127.0.0.1\",\n",
    "    \"Port\": \"12307\",\n",
    "    \"Timeout\": \"6\",\n",
    "    \"TransportMode\": \"reliable\",\n",
    "    \"RendezvousReaderCount\": \"1\",\n",
    "}\n",
    "\n",
    "hdf5f = \"../data/30420.h5\"\n",
    "axis = \"/xmc/XMC/ACQ196_143/CH01\"\n",
    "h5obj = HDF5(hdf5f)\n",
    "rdo = h5obj.getaxis(axis)\n",
    "\n",
    "adios_s = AdiosWands(link=\"Sender\",parameters=params)\n",
    "adios_s.send(\"IOS\", \"testdata\", rdo)\n",
    "\n",
    "print(rdo)\n"
   ]
  },
  {
   "cell_type": "code",
   "execution_count": null,
   "metadata": {},
   "outputs": [],
   "source": [
    "### TODO send multiple Raw data structs at once\n",
    "\n",
    "from wands import AdiosWands, HDF5\n",
    "\n",
    "params = {\n",
    "    \"IPAddress\": \"127.0.0.1\",\n",
    "    \"Port\": \"12307\",\n",
    "    \"Timeout\": \"6\",\n",
    "    \"TransportMode\": \"reliable\",\n",
    "    \"RendezvousReaderCount\": \"1\",\n",
    "}\n",
    "\n",
    "hdf5f = \"../data/30420.h5\"\n",
    "axis = [\"/xmc/XMC/ACQ196_143/CH01\",\"xbt/XBT/CHANNEL16\"]\n",
    "h5obj = HDF5(hdf5f)\n",
    "rdo = h5obj.getaxis(axis)\n",
    "\n",
    "adios_s = AdiosWands(link=\"Sender\",parameters=params)\n",
    "adios_s.send(\"IOS\", \"testdata\", rdo)\n",
    "\n",
    "print(rdo)"
   ]
  },
  {
   "cell_type": "code",
   "execution_count": null,
   "metadata": {},
   "outputs": [],
   "source": [
    "###TEST3 TODO send name as attribute\n",
    "\n",
    "from wands import AdiosWands, HDF5\n",
    "\n",
    "params = {\n",
    "    \"IPAddress\": \"127.0.0.1\",\n",
    "    \"Port\": \"12307\",\n",
    "    \"Timeout\": \"6\",\n",
    "    \"TransportMode\": \"reliable\",\n",
    "    \"RendezvousReaderCount\": \"1\",\n",
    "}\n",
    "\n",
    "hdf5f = \"../data/30420.h5\"\n",
    "axis = \"/xmc/XMC/ACQ196_143/CH01\"\n",
    "h5obj = HDF5(hdf5f)\n",
    "rdo = h5obj.getaxis(axis)\n",
    "\n",
    "adios_s = AdiosWands(link=\"Sender\",parameters=params)\n",
    "adios_s.send(\"IOS\", \"testdata\", rdo)\n",
    "\n",
    "print(rdo)\n"
   ]
  },
  {
   "cell_type": "code",
   "execution_count": null,
   "metadata": {},
   "outputs": [],
   "source": [
    "###TEST4 TODO data requested by CSD3 \n",
    "#PROBLEM adios does not like strings\n",
    "\n",
    "from wands import AdiosWands, HDF5\n",
    "\n",
    "params = {\n",
    "    \"IPAddress\": \"127.0.0.1\",\n",
    "    \"Port\": \"12307\",\n",
    "    \"Timeout\": \"6\",\n",
    "    \"TransportMode\": \"reliable\",\n",
    "    \"RendezvousReaderCount\": \"1\",\n",
    "}\n",
    "\n",
    "hdf5f = \"../data/30420.h5\"\n",
    "axis = \"/xmc/XMC/ACQ196_143/CH01\"\n",
    "h5obj = HDF5(hdf5f)\n",
    "rdo = h5obj.getaxis(axis)\n",
    "\n",
    "adios_s = AdiosWands(link=\"Sender\",parameters=params)\n",
    "adios_s.send(\"IOS\", \"testdata\", rdo)\n",
    "\n",
    "print(rdo)"
   ]
  }
 ],
 "metadata": {
  "kernelspec": {
   "display_name": "adios2py",
   "language": "python",
   "name": "python3"
  },
  "language_info": {
   "codemirror_mode": {
    "name": "ipython",
    "version": 3
   },
   "file_extension": ".py",
   "mimetype": "text/x-python",
   "name": "python",
   "nbconvert_exporter": "python",
   "pygments_lexer": "ipython3",
   "version": "3.11.0"
  },
  "orig_nbformat": 4,
  "vscode": {
   "interpreter": {
    "hash": "a0db4a15088eb8ce89507f26dc070061897a95d62ae4e6453334ebf497d61938"
   }
  }
 },
 "nbformat": 4,
 "nbformat_minor": 2
}
