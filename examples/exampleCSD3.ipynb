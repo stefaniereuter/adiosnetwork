{
 "cells": [
  {
   "cell_type": "code",
   "execution_count": 1,
   "metadata": {},
   "outputs": [
    {
     "name": "stdout",
     "output_type": "stream",
     "text": [
      "/xmc/XMC/ACQ196_143/CH01: \n",
      " data = [-0.00416018 -0.00385162 -0.00416018 ... -0.00416018 -0.00354307\n",
      " -0.00385162] \n",
      " time = [-0.0999992 -0.0999972 -0.0999952 ...  1.1999948  1.1999968  1.1999988] \n",
      " time attributes {} \n",
      " errors = [0. 0. 0. ... 0. 0. 0.] \n",
      " group attributes = {}  \n"
     ]
    }
   ],
   "source": [
    "###TEST 1: Send data RAW data (time, data, error)\n",
    "\n",
    "from wands import AdiosWands, RawData\n",
    "\n",
    "params =  {\n",
    "    \"IPAddress\": \"127.0.0.1\",\n",
    "    \"Port\": \"12307\",\n",
    "    \"Timeout\": \"6\",\n",
    "    \"TransportMode\": \"reliable\",\n",
    "    \"RendezvousReaderCount\": \"1\",\n",
    "}       \n",
    "axis = \"/xmc/XMC/ACQ196_143/CH01\"\n",
    "\n",
    "adios_r = AdiosWands(link=\"Reader\",parameters=params)\n",
    "data_r = adios_r.receive(\"IOS\",\"testdata\")\n",
    "\n",
    "rdo_r = RawData(axis)\n",
    "rdo_r.convert_to_rawdata(data_r)\n",
    "print(rdo_r)\n"
   ]
  },
  {
   "cell_type": "code",
   "execution_count": null,
   "metadata": {},
   "outputs": [],
   "source": [
    "###TEST2 TODO send multiple Raw data at once\n",
    "\n",
    "from wands import AdiosWands, RawData\n",
    "\n",
    "params =  {\n",
    "    \"IPAddress\": \"127.0.0.1\",\n",
    "    \"Port\": \"12307\",\n",
    "    \"Timeout\": \"6\",\n",
    "    \"TransportMode\": \"reliable\",\n",
    "    \"RendezvousReaderCount\": \"1\",\n",
    "}       \n",
    "\n",
    "axis = [\"/xmc/XMC/ACQ196_143/CH01\",\"xbt/XBT/CHANNEL16\"]\n",
    "\n",
    "adios_r = AdiosWands(link=\"Reader\",parameters=params)\n",
    "data_r = adios_r.receive(\"IOS\",\"testdata\")\n",
    "\n",
    "rdo_r = RawData(axis)\n",
    "rdo_r.convert_to_rawdata(data_r)\n",
    "print(rdo_r)\n"
   ]
  },
  {
   "cell_type": "code",
   "execution_count": null,
   "metadata": {},
   "outputs": [],
   "source": [
    "###TEST3 TODO send name as attribute\n",
    "\n",
    "from wands import AdiosWands, RawData\n",
    "\n",
    "params =  {\n",
    "    \"IPAddress\": \"127.0.0.1\",\n",
    "    \"Port\": \"12307\",\n",
    "    \"Timeout\": \"6\",\n",
    "    \"TransportMode\": \"reliable\",\n",
    "    \"RendezvousReaderCount\": \"1\",\n",
    "}       \n",
    "axis = \"/xmc/XMC/ACQ196_143/CH01\"\n",
    "\n",
    "adios_r = AdiosWands(link=\"Reader\",parameters=params)\n",
    "data_r = adios_r.receive(\"IOS\",\"testdata\")\n",
    "\n",
    "rdo_r = RawData(axis) # this would not be necessary\n",
    "rdo_r.convert_to_rawdata(data_r)\n",
    "print(rdo_r) # should contain the name and other attributes"
   ]
  },
  {
   "cell_type": "code",
   "execution_count": null,
   "metadata": {},
   "outputs": [],
   "source": [
    "###TEST4 TODO  data requested by CSD3\n",
    "\n",
    "from wands import AdiosWands, RawData\n",
    "\n",
    "params =  {\n",
    "    \"IPAddress\": \"127.0.0.1\",\n",
    "    \"Port\": \"12307\",\n",
    "    \"Timeout\": \"6\",\n",
    "    \"TransportMode\": \"reliable\",\n",
    "    \"RendezvousReaderCount\": \"1\",\n",
    "}       \n",
    "axis = \"/xmc/XMC/ACQ196_143/CH01\"\n",
    "\n",
    "adios_r = AdiosWands(link=\"Reader\",parameters=params)\n",
    "\n",
    "#substituted with something like receive_request()\n",
    "data_r = adios_r.receive(\"IOS\",\"testdata\")\n",
    "\n",
    "rdo_r = RawData(axis) # this would not be necessary\n",
    "rdo_r.convert_to_rawdata(data_r)\n",
    "print(rdo_r) # should contain the name and other attributes"
   ]
  }
 ],
 "metadata": {
  "kernelspec": {
   "display_name": "adios2py",
   "language": "python",
   "name": "python3"
  },
  "language_info": {
   "codemirror_mode": {
    "name": "ipython",
    "version": 3
   },
   "file_extension": ".py",
   "mimetype": "text/x-python",
   "name": "python",
   "nbconvert_exporter": "python",
   "pygments_lexer": "ipython3",
   "version": "3.11.0"
  },
  "orig_nbformat": 4,
  "vscode": {
   "interpreter": {
    "hash": "a0db4a15088eb8ce89507f26dc070061897a95d62ae4e6453334ebf497d61938"
   }
  }
 },
 "nbformat": 4,
 "nbformat_minor": 2
}
